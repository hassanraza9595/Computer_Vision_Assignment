{
 "cells": [
  {
   "cell_type": "code",
   "execution_count": 1,
   "metadata": {},
   "outputs": [],
   "source": [
    "import matplotlib.pyplot as plt\n",
    "import tensorflow as tf\n",
    "import os, shutil"
   ]
  },
  {
   "cell_type": "code",
   "execution_count": 2,
   "metadata": {},
   "outputs": [],
   "source": [
    "dataset_dir = \"D:/dataset\""
   ]
  },
  {
   "cell_type": "code",
   "execution_count": 3,
   "metadata": {},
   "outputs": [],
   "source": [
    "base_dir = \"D:/dataset/malaria_detection_using_dense\"\n",
    "os.mkdir(base_dir)"
   ]
  },
  {
   "cell_type": "code",
   "execution_count": 4,
   "metadata": {},
   "outputs": [],
   "source": [
    "# Directories for the training, validation, and test splits\n",
    "\n",
    "train_dir = os.path.join(base_dir, 'train')\n",
    "os.mkdir(train_dir)\n",
    "\n",
    "validation_dir = os.path.join(base_dir, 'validation')\n",
    "os.mkdir(validation_dir)\n",
    "\n",
    "test_dir = os.path.join(base_dir, 'test')\n",
    "os.mkdir(test_dir)"
   ]
  },
  {
   "cell_type": "code",
   "execution_count": 5,
   "metadata": {},
   "outputs": [],
   "source": [
    "# Directory with training parasitized pictures\n",
    "\n",
    "train_parasitized_dir = os.path.join(train_dir, 'parasitized')\n",
    "os.mkdir(train_parasitized_dir)"
   ]
  },
  {
   "cell_type": "code",
   "execution_count": 6,
   "metadata": {},
   "outputs": [],
   "source": [
    "# Directory with training uninfected pictures\n",
    "\n",
    "train_uninfected_dir = os.path.join(train_dir, 'uninfected')\n",
    "os.mkdir(train_uninfected_dir)"
   ]
  },
  {
   "cell_type": "code",
   "execution_count": 7,
   "metadata": {},
   "outputs": [],
   "source": [
    "# Directory with validationing parasitized pictures\n",
    "\n",
    "validation_parasitized_dir = os.path.join(validation_dir, 'parasitized')\n",
    "os.mkdir(validation_parasitized_dir)"
   ]
  },
  {
   "cell_type": "code",
   "execution_count": 8,
   "metadata": {},
   "outputs": [],
   "source": [
    "# Directory with validation uninfected pictures\n",
    "\n",
    "validation_uninfected_dir = os.path.join(validation_dir, 'uninfected')\n",
    "os.mkdir(validation_uninfected_dir)"
   ]
  },
  {
   "cell_type": "code",
   "execution_count": 9,
   "metadata": {},
   "outputs": [],
   "source": [
    "# Directory with test parasitized pictures\n",
    "\n",
    "test_parasitized_dir = os.path.join(test_dir, 'parasitized')\n",
    "os.mkdir(test_parasitized_dir)"
   ]
  },
  {
   "cell_type": "code",
   "execution_count": 10,
   "metadata": {},
   "outputs": [],
   "source": [
    "# Directory with test uninfected pictures\n",
    "\n",
    "test_uninfected_dir = os.path.join(test_dir, 'uninfected')\n",
    "os.mkdir(test_uninfected_dir)"
   ]
  },
  {
   "cell_type": "code",
   "execution_count": 11,
   "metadata": {},
   "outputs": [],
   "source": [
    "# Copies the first 1000 parasitized images to train_parasitized_dir\n",
    "\n",
    "fnames = ['parasitized.{}.jpg'.format(i) for i in range(1,1001)]\n",
    "for fname in fnames:\n",
    "    src = os.path.join(dataset_dir, fname)\n",
    "    dst = os.path.join(train_parasitized_dir, fname)\n",
    "    shutil.copyfile(src, dst)"
   ]
  },
  {
   "cell_type": "code",
   "execution_count": 12,
   "metadata": {},
   "outputs": [],
   "source": [
    "# Copies the 500 parasitized images to validation_parasitized_dir\n",
    "fnames = ['parasitized.{}.jpg'.format(i) for i in range(1001, 1501)]\n",
    "for fname in fnames:\n",
    "    src = os.path.join(dataset_dir, fname)\n",
    "    dst = os.path.join(validation_parasitized_dir, fname)\n",
    "    shutil.copyfile(src, dst)"
   ]
  },
  {
   "cell_type": "code",
   "execution_count": 13,
   "metadata": {},
   "outputs": [],
   "source": [
    "#  Copies the next 500 parasitized images to test_parasitized_dir\n",
    "\n",
    "fnames = ['parasitized.{}.jpg'.format(i) for i in range(1501, 2001)]\n",
    "for fname in fnames:\n",
    "    src = os.path.join(dataset_dir, fname)\n",
    "    dst = os.path.join(test_parasitized_dir, fname)\n",
    "    shutil.copyfile(src, dst)"
   ]
  },
  {
   "cell_type": "code",
   "execution_count": 14,
   "metadata": {},
   "outputs": [],
   "source": [
    "# Copies the first 400 uninfected images to train_uninfected_dir\n",
    "\n",
    "fnames = ['uninfected.{}.jpg'.format(i) for i in range(1, 1001)]\n",
    "for fname in fnames:\n",
    "    src = os.path.join(dataset_dir, fname)\n",
    "    dst = os.path.join(train_uninfected_dir, fname)\n",
    "    shutil.copyfile(src, dst)\n",
    "    \n",
    "# Copies the next 250 uninfected images to validation_uninfected_dir    \n",
    "\n",
    "fnames = ['uninfected.{}.jpg'.format(i) for i in range(1001, 1501)]\n",
    "for fname in fnames:\n",
    "    src = os.path.join(dataset_dir, fname)\n",
    "    dst = os.path.join(validation_uninfected_dir, fname)\n",
    "    shutil.copyfile(src, dst)\n",
    "    \n",
    "# Copies the next 250 uninfected images to test_uninfected_dir    \n",
    "\n",
    "fnames = ['uninfected.{}.jpg'.format(i) for i in range(1501, 2001)]\n",
    "for fname in fnames:\n",
    "    src = os.path.join(dataset_dir, fname)\n",
    "    dst = os.path.join(test_uninfected_dir, fname)\n",
    "    shutil.copyfile(src, dst)"
   ]
  },
  {
   "cell_type": "markdown",
   "metadata": {},
   "source": [
    "# The network architecture\n",
    "\n",
    "The core building block of neural networks is the layer, a data-processing module that\n",
    "you can think of as a filter for data."
   ]
  },
  {
   "cell_type": "code",
   "execution_count": 15,
   "metadata": {},
   "outputs": [
    {
     "name": "stderr",
     "output_type": "stream",
     "text": [
      "Using TensorFlow backend.\n"
     ]
    },
    {
     "name": "stdout",
     "output_type": "stream",
     "text": [
      "Model: \"sequential_1\"\n",
      "_________________________________________________________________\n",
      "Layer (type)                 Output Shape              Param #   \n",
      "=================================================================\n",
      "dense_1 (Dense)              (None, 150, 150, 512)     2048      \n",
      "_________________________________________________________________\n",
      "flatten_1 (Flatten)          (None, 11520000)          0         \n",
      "_________________________________________________________________\n",
      "dense_2 (Dense)              (None, 1)                 11520001  \n",
      "=================================================================\n",
      "Total params: 11,522,049\n",
      "Trainable params: 11,522,049\n",
      "Non-trainable params: 0\n",
      "_________________________________________________________________\n"
     ]
    }
   ],
   "source": [
    "from keras import layers\n",
    "from keras import models\n",
    "\n",
    "model = models.Sequential()\n",
    "model.add(layers.Dense(512, activation='relu', input_shape=(150,150,3)))\n",
    "model.add(layers.Flatten())\n",
    "model.add(layers.Dense(1, activation='sigmoid'))\n",
    "\n",
    "model.summary()"
   ]
  },
  {
   "cell_type": "markdown",
   "metadata": {},
   "source": [
    "# Configuring the model for training"
   ]
  },
  {
   "cell_type": "code",
   "execution_count": 16,
   "metadata": {},
   "outputs": [],
   "source": [
    "from keras import optimizers\n",
    "\n",
    "model.compile(loss='binary_crossentropy',\n",
    "              optimizer=optimizers.RMSprop(lr=1e-4),\n",
    "              metrics=['acc'])"
   ]
  },
  {
   "cell_type": "markdown",
   "metadata": {},
   "source": [
    "# Using ImageDataGenerator to read images from directories"
   ]
  },
  {
   "cell_type": "code",
   "execution_count": 17,
   "metadata": {},
   "outputs": [
    {
     "name": "stdout",
     "output_type": "stream",
     "text": [
      "Found 2000 images belonging to 2 classes.\n",
      "Found 1000 images belonging to 2 classes.\n"
     ]
    }
   ],
   "source": [
    "from keras.preprocessing.image import ImageDataGenerator\n",
    "\n",
    "train_datagen = ImageDataGenerator(rescale=1./255)\n",
    "test_datagen = ImageDataGenerator(rescale=1./255)\n",
    "\n",
    "train_generator = train_datagen.flow_from_directory(\n",
    "        train_dir,\n",
    "        target_size=(150, 150),\n",
    "        batch_size=20,\n",
    "        class_mode='binary')\n",
    "\n",
    "\n",
    "validation_generator = test_datagen.flow_from_directory(\n",
    "        validation_dir,\n",
    "         target_size=(150, 150),\n",
    "         batch_size=20,\n",
    "         class_mode='binary')"
   ]
  },
  {
   "cell_type": "markdown",
   "metadata": {},
   "source": [
    "# Fitting the model using a batch generator"
   ]
  },
  {
   "cell_type": "code",
   "execution_count": 18,
   "metadata": {},
   "outputs": [
    {
     "name": "stdout",
     "output_type": "stream",
     "text": [
      "Epoch 1/30\n",
      "100/100 [==============================] - 225s 2s/step - loss: 4.6106 - acc: 0.5525 - val_loss: 7.5971 - val_acc: 0.5000\n",
      "Epoch 2/30\n",
      "100/100 [==============================] - 209s 2s/step - loss: 2.8096 - acc: 0.6210 - val_loss: 2.6660 - val_acc: 0.5040\n",
      "Epoch 3/30\n",
      "100/100 [==============================] - 209s 2s/step - loss: 2.2433 - acc: 0.6355 - val_loss: 0.5193 - val_acc: 0.7420\n",
      "Epoch 4/30\n",
      "100/100 [==============================] - 210s 2s/step - loss: 1.6646 - acc: 0.6555 - val_loss: 0.7459 - val_acc: 0.7010\n",
      "Epoch 5/30\n",
      "100/100 [==============================] - 211s 2s/step - loss: 1.1835 - acc: 0.6790 - val_loss: 0.4492 - val_acc: 0.7560\n",
      "Epoch 6/30\n",
      "100/100 [==============================] - 213s 2s/step - loss: 0.8757 - acc: 0.6895 - val_loss: 0.8224 - val_acc: 0.5900\n",
      "Epoch 7/30\n",
      "100/100 [==============================] - 216s 2s/step - loss: 0.6079 - acc: 0.7385 - val_loss: 0.4110 - val_acc: 0.7140\n",
      "Epoch 8/30\n",
      "100/100 [==============================] - 218s 2s/step - loss: 0.5355 - acc: 0.7670 - val_loss: 0.6703 - val_acc: 0.7830\n",
      "Epoch 9/30\n",
      "100/100 [==============================] - 219s 2s/step - loss: 0.4650 - acc: 0.7900 - val_loss: 0.6709 - val_acc: 0.7750\n",
      "Epoch 10/30\n",
      "100/100 [==============================] - 220s 2s/step - loss: 0.4166 - acc: 0.8135 - val_loss: 0.9926 - val_acc: 0.7420\n",
      "Epoch 11/30\n",
      "100/100 [==============================] - 219s 2s/step - loss: 0.3720 - acc: 0.8340 - val_loss: 0.5224 - val_acc: 0.7670\n",
      "Epoch 12/30\n",
      "100/100 [==============================] - 222s 2s/step - loss: 0.3594 - acc: 0.8485 - val_loss: 0.4946 - val_acc: 0.8100\n",
      "Epoch 13/30\n",
      "100/100 [==============================] - 224s 2s/step - loss: 0.3398 - acc: 0.8595 - val_loss: 0.7358 - val_acc: 0.7900\n",
      "Epoch 14/30\n",
      "100/100 [==============================] - 222s 2s/step - loss: 0.3322 - acc: 0.8600 - val_loss: 0.9801 - val_acc: 0.8090\n",
      "Epoch 15/30\n",
      "100/100 [==============================] - 225s 2s/step - loss: 0.3112 - acc: 0.8815 - val_loss: 0.7109 - val_acc: 0.8150\n",
      "Epoch 16/30\n",
      "100/100 [==============================] - 223s 2s/step - loss: 0.2924 - acc: 0.8880 - val_loss: 0.3272 - val_acc: 0.7440\n",
      "Epoch 17/30\n",
      "100/100 [==============================] - 219s 2s/step - loss: 0.2944 - acc: 0.8875 - val_loss: 0.4079 - val_acc: 0.7740\n",
      "Epoch 18/30\n",
      "100/100 [==============================] - 218s 2s/step - loss: 0.2735 - acc: 0.8925 - val_loss: 0.5124 - val_acc: 0.8120\n",
      "Epoch 19/30\n",
      "100/100 [==============================] - 230s 2s/step - loss: 0.2710 - acc: 0.8930 - val_loss: 0.6088 - val_acc: 0.7760\n",
      "Epoch 20/30\n",
      "100/100 [==============================] - 221s 2s/step - loss: 0.2558 - acc: 0.9090 - val_loss: 0.2376 - val_acc: 0.7870\n",
      "Epoch 21/30\n",
      "100/100 [==============================] - 226s 2s/step - loss: 0.2568 - acc: 0.9100 - val_loss: 0.8469 - val_acc: 0.8090\n",
      "Epoch 22/30\n",
      "100/100 [==============================] - 221s 2s/step - loss: 0.2385 - acc: 0.9105 - val_loss: 0.6889 - val_acc: 0.7990\n",
      "Epoch 23/30\n",
      "100/100 [==============================] - 218s 2s/step - loss: 0.2339 - acc: 0.9125 - val_loss: 1.0760 - val_acc: 0.8160\n",
      "Epoch 24/30\n",
      "100/100 [==============================] - 243s 2s/step - loss: 0.2340 - acc: 0.9160 - val_loss: 0.5663 - val_acc: 0.7990\n",
      "Epoch 25/30\n",
      "100/100 [==============================] - 223s 2s/step - loss: 0.2178 - acc: 0.9235 - val_loss: 0.5163 - val_acc: 0.8220\n",
      "Epoch 26/30\n",
      "100/100 [==============================] - 225s 2s/step - loss: 0.2168 - acc: 0.9210 - val_loss: 1.2939 - val_acc: 0.8040\n",
      "Epoch 27/30\n",
      "100/100 [==============================] - 230s 2s/step - loss: 0.2054 - acc: 0.9210 - val_loss: 0.2618 - val_acc: 0.8020\n",
      "Epoch 28/30\n",
      "100/100 [==============================] - 224s 2s/step - loss: 0.2000 - acc: 0.9290 - val_loss: 0.2767 - val_acc: 0.8230\n",
      "Epoch 29/30\n",
      "100/100 [==============================] - 230s 2s/step - loss: 0.1832 - acc: 0.9345 - val_loss: 1.1207 - val_acc: 0.8110\n",
      "Epoch 30/30\n",
      "100/100 [==============================] - 230s 2s/step - loss: 0.1910 - acc: 0.9300 - val_loss: 0.2597 - val_acc: 0.8160\n"
     ]
    }
   ],
   "source": [
    "history = model.fit_generator(\n",
    "        train_generator,\n",
    "        steps_per_epoch=100,\n",
    "        epochs=30,\n",
    "        validation_data=validation_generator,\n",
    "        validation_steps=50)"
   ]
  },
  {
   "cell_type": "markdown",
   "metadata": {},
   "source": [
    "# Saving the model"
   ]
  },
  {
   "cell_type": "code",
   "execution_count": 19,
   "metadata": {},
   "outputs": [],
   "source": [
    "# Saving the model\n",
    "\n",
    "model.save('malaria_detection_using_dense.h5')"
   ]
  },
  {
   "cell_type": "markdown",
   "metadata": {},
   "source": [
    "# Displaying curves of loss and accuracy during training"
   ]
  },
  {
   "cell_type": "code",
   "execution_count": 20,
   "metadata": {},
   "outputs": [
    {
     "data": {
      "image/png": "[encoded data removed]",
      "text/plain": [
       "<Figure size 432x288 with 1 Axes>"
      ]
     },
     "metadata": {
      "needs_background": "light"
     },
     "output_type": "display_data"
    },
    {
     "data": {
      "image/png": "[encoded data removed]",
      "text/plain": [
       "<Figure size 432x288 with 1 Axes>"
      ]
     },
     "metadata": {
      "needs_background": "light"
     },
     "output_type": "display_data"
    }
   ],
   "source": [
    "acc = history.history['acc']\n",
    "val_acc = history.history['val_acc']\n",
    "loss = history.history['loss']\n",
    "val_loss = history.history['val_loss']\n",
    "epochs = range(1, len(acc) + 1)\n",
    "plt.plot(epochs, acc, 'bo', label='Training acc')\n",
    "plt.plot(epochs, val_acc, 'b', label='Validation acc')\n",
    "plt.title('Training and validation accuracy')\n",
    "plt.legend()\n",
    "plt.figure()\n",
    "plt.plot(epochs, loss, 'bo', label='Training loss')\n",
    "plt.plot(epochs, val_loss, 'b', label='Validation loss')\n",
    "plt.title('Training and validation loss')\n",
    "plt.legend()\n",
    "plt.show()\n",
    "\n",
    "\n",
    "# These plots are characteristic of overfitting."
   ]
  },
  {
   "cell_type": "code",
   "execution_count": null,
   "metadata": {},
   "outputs": [],
   "source": []
  }
 ],
 "metadata": {
  "kernelspec": {
   "display_name": "Python 3",
   "language": "python",
   "name": "python3"
  },
  "language_info": {
   "codemirror_mode": {
    "name": "ipython",
    "version": 3
   },
   "file_extension": ".py",
   "mimetype": "text/x-python",
   "name": "python",
   "nbconvert_exporter": "python",
   "pygments_lexer": "ipython3",
   "version": "3.7.4"
  }
 },
 "nbformat": 4,
 "nbformat_minor": 2
}
