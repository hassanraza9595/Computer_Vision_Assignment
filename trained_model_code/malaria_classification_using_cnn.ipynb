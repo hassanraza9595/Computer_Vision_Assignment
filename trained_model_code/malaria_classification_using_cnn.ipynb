{
 "cells": [
  {
   "cell_type": "code",
   "execution_count": 2,
   "metadata": {},
   "outputs": [],
   "source": [
    "import numpy as np\n",
    "import pandas as pd\n",
    "import matplotlib.pyplot as plt\n",
    "import tensorflow as tf\n",
    "import os, shutil"
   ]
  },
  {
   "cell_type": "code",
   "execution_count": 2,
   "metadata": {},
   "outputs": [],
   "source": [
    "dataset_dir = \"D:/dataset\""
   ]
  },
  {
   "cell_type": "code",
   "execution_count": 3,
   "metadata": {},
   "outputs": [],
   "source": [
    "base_dir = \"D:/dataset/malaria_using_cnn\"\n",
    "os.mkdir(base_dir)"
   ]
  },
  {
   "cell_type": "code",
   "execution_count": 4,
   "metadata": {},
   "outputs": [],
   "source": [
    "# Directories for the training, validation, and test splits\n",
    "\n",
    "train_dir = os.path.join(base_dir, 'train')\n",
    "os.mkdir(train_dir)\n",
    "\n",
    "validation_dir = os.path.join(base_dir, 'validation')\n",
    "os.mkdir(validation_dir)\n",
    "\n",
    "test_dir = os.path.join(base_dir, 'test')\n",
    "os.mkdir(test_dir)"
   ]
  },
  {
   "cell_type": "code",
   "execution_count": 5,
   "metadata": {},
   "outputs": [],
   "source": [
    "# Directory with training parasitized pictures\n",
    "\n",
    "train_parasitized_dir = os.path.join(train_dir, 'parasitized')\n",
    "os.mkdir(train_parasitized_dir)"
   ]
  },
  {
   "cell_type": "code",
   "execution_count": 6,
   "metadata": {},
   "outputs": [],
   "source": [
    "# Directory with training uninfected pictures\n",
    "\n",
    "train_uninfected_dir = os.path.join(train_dir, 'uninfected')\n",
    "os.mkdir(train_uninfected_dir)"
   ]
  },
  {
   "cell_type": "code",
   "execution_count": 7,
   "metadata": {},
   "outputs": [],
   "source": [
    "# Directory with validationing parasitized pictures\n",
    "\n",
    "validation_parasitized_dir = os.path.join(validation_dir, 'parasitized')\n",
    "os.mkdir(validation_parasitized_dir)"
   ]
  },
  {
   "cell_type": "code",
   "execution_count": 8,
   "metadata": {},
   "outputs": [],
   "source": [
    "# Directory with validation uninfected pictures\n",
    "\n",
    "validation_uninfected_dir = os.path.join(validation_dir, 'uninfected')\n",
    "os.mkdir(validation_uninfected_dir)"
   ]
  },
  {
   "cell_type": "code",
   "execution_count": 9,
   "metadata": {},
   "outputs": [],
   "source": [
    "# Directory with test parasitized pictures\n",
    "\n",
    "test_parasitized_dir = os.path.join(test_dir, 'parasitized')\n",
    "os.mkdir(test_parasitized_dir)"
   ]
  },
  {
   "cell_type": "code",
   "execution_count": 10,
   "metadata": {},
   "outputs": [],
   "source": [
    "# Directory with test uninfected pictures\n",
    "\n",
    "test_uninfected_dir = os.path.join(test_dir, 'uninfected')\n",
    "os.mkdir(test_uninfected_dir)"
   ]
  },
  {
   "cell_type": "code",
   "execution_count": 11,
   "metadata": {},
   "outputs": [],
   "source": [
    "# Copies the first 1000 parasitized images to train_parasitized_dir\n",
    "\n",
    "fnames = ['parasitized.{}.jpg'.format(i) for i in range(1,1001)]\n",
    "for fname in fnames:\n",
    "    src = os.path.join(dataset_dir, fname)\n",
    "    dst = os.path.join(train_parasitized_dir, fname)\n",
    "    shutil.copyfile(src, dst)"
   ]
  },
  {
   "cell_type": "code",
   "execution_count": 12,
   "metadata": {},
   "outputs": [],
   "source": [
    "# Copies the 500 parasitized images to validation_parasitized_dir\n",
    "fnames = ['parasitized.{}.jpg'.format(i) for i in range(1001, 1501)]\n",
    "for fname in fnames:\n",
    "    src = os.path.join(dataset_dir, fname)\n",
    "    dst = os.path.join(validation_parasitized_dir, fname)\n",
    "    shutil.copyfile(src, dst)"
   ]
  },
  {
   "cell_type": "code",
   "execution_count": 13,
   "metadata": {},
   "outputs": [],
   "source": [
    "#  Copies the next 500 parasitized images to test_parasitized_dir\n",
    "\n",
    "fnames = ['parasitized.{}.jpg'.format(i) for i in range(1501, 2001)]\n",
    "for fname in fnames:\n",
    "    src = os.path.join(dataset_dir, fname)\n",
    "    dst = os.path.join(test_parasitized_dir, fname)\n",
    "    shutil.copyfile(src, dst)"
   ]
  },
  {
   "cell_type": "code",
   "execution_count": 14,
   "metadata": {},
   "outputs": [],
   "source": [
    "# Copies the first 400 uninfected images to train_uninfected_dir\n",
    "\n",
    "fnames = ['uninfected.{}.jpg'.format(i) for i in range(1, 1001)]\n",
    "for fname in fnames:\n",
    "    src = os.path.join(dataset_dir, fname)\n",
    "    dst = os.path.join(train_uninfected_dir, fname)\n",
    "    shutil.copyfile(src, dst)\n",
    "    \n",
    "# Copies the next 250 uninfected images to validation_uninfected_dir    \n",
    "\n",
    "fnames = ['uninfected.{}.jpg'.format(i) for i in range(1001, 1501)]\n",
    "for fname in fnames:\n",
    "    src = os.path.join(dataset_dir, fname)\n",
    "    dst = os.path.join(validation_uninfected_dir, fname)\n",
    "    shutil.copyfile(src, dst)\n",
    "    \n",
    "# Copies the next 250 uninfected images to test_uninfected_dir    \n",
    "\n",
    "fnames = ['uninfected.{}.jpg'.format(i) for i in range(1501, 2001)]\n",
    "for fname in fnames:\n",
    "    src = os.path.join(dataset_dir, fname)\n",
    "    dst = os.path.join(test_uninfected_dir, fname)\n",
    "    shutil.copyfile(src, dst)"
   ]
  },
  {
   "cell_type": "markdown",
   "metadata": {},
   "source": [
    "# Building network\n",
    "Instantiating a small convnet for parasitized vs uninfected malaria classification"
   ]
  },
  {
   "cell_type": "code",
   "execution_count": 15,
   "metadata": {},
   "outputs": [
    {
     "name": "stderr",
     "output_type": "stream",
     "text": [
      "Using TensorFlow backend.\n"
     ]
    },
    {
     "name": "stdout",
     "output_type": "stream",
     "text": [
      "Model: \"sequential_1\"\n",
      "_________________________________________________________________\n",
      "Layer (type)                 Output Shape              Param #   \n",
      "=================================================================\n",
      "conv2d_1 (Conv2D)            (None, 148, 148, 32)      896       \n",
      "_________________________________________________________________\n",
      "max_pooling2d_1 (MaxPooling2 (None, 74, 74, 32)        0         \n",
      "_________________________________________________________________\n",
      "conv2d_2 (Conv2D)            (None, 72, 72, 64)        18496     \n",
      "_________________________________________________________________\n",
      "max_pooling2d_2 (MaxPooling2 (None, 36, 36, 64)        0         \n",
      "_________________________________________________________________\n",
      "conv2d_3 (Conv2D)            (None, 34, 34, 128)       73856     \n",
      "_________________________________________________________________\n",
      "max_pooling2d_3 (MaxPooling2 (None, 17, 17, 128)       0         \n",
      "_________________________________________________________________\n",
      "conv2d_4 (Conv2D)            (None, 15, 15, 128)       147584    \n",
      "_________________________________________________________________\n",
      "max_pooling2d_4 (MaxPooling2 (None, 7, 7, 128)         0         \n",
      "_________________________________________________________________\n",
      "flatten_1 (Flatten)          (None, 6272)              0         \n",
      "_________________________________________________________________\n",
      "dense_1 (Dense)              (None, 512)               3211776   \n",
      "_________________________________________________________________\n",
      "dense_2 (Dense)              (None, 1)                 513       \n",
      "=================================================================\n",
      "Total params: 3,453,121\n",
      "Trainable params: 3,453,121\n",
      "Non-trainable params: 0\n",
      "_________________________________________________________________\n"
     ]
    }
   ],
   "source": [
    "from keras import layers\n",
    "from keras import models\n",
    "\n",
    "model = models.Sequential()\n",
    "model.add(layers.Conv2D(32, (3, 3), activation='relu',\n",
    "input_shape=(150, 150, 3)))\n",
    "model.add(layers.MaxPooling2D((2, 2)))\n",
    "model.add(layers.Conv2D(64, (3, 3), activation='relu'))\n",
    "model.add(layers.MaxPooling2D((2, 2)))\n",
    "model.add(layers.Conv2D(128, (3, 3), activation='relu'))\n",
    "model.add(layers.MaxPooling2D((2, 2)))\n",
    "model.add(layers.Conv2D(128, (3, 3), activation='relu'))\n",
    "model.add(layers.MaxPooling2D((2, 2)))\n",
    "model.add(layers.Flatten())\n",
    "model.add(layers.Dense(512, activation='relu'))\n",
    "model.add(layers.Dense(1, activation='sigmoid'))\n",
    "\n",
    "model.summary()"
   ]
  },
  {
   "cell_type": "markdown",
   "metadata": {},
   "source": [
    "# Configuring the model for training"
   ]
  },
  {
   "cell_type": "code",
   "execution_count": 16,
   "metadata": {},
   "outputs": [],
   "source": [
    "from keras import optimizers\n",
    "\n",
    "model.compile(loss='binary_crossentropy',\n",
    "              optimizer=optimizers.RMSprop(lr=1e-4),\n",
    "              metrics=['acc'])"
   ]
  },
  {
   "cell_type": "markdown",
   "metadata": {},
   "source": [
    "# Using ImageDataGenerator to read images from directories"
   ]
  },
  {
   "cell_type": "code",
   "execution_count": 17,
   "metadata": {},
   "outputs": [
    {
     "name": "stdout",
     "output_type": "stream",
     "text": [
      "Found 2000 images belonging to 2 classes.\n",
      "Found 1000 images belonging to 2 classes.\n"
     ]
    }
   ],
   "source": [
    "from keras.preprocessing.image import ImageDataGenerator\n",
    "\n",
    "train_datagen = ImageDataGenerator(rescale=1./255)\n",
    "test_datagen = ImageDataGenerator(rescale=1./255)\n",
    "\n",
    "train_generator = train_datagen.flow_from_directory(\n",
    "        train_dir,\n",
    "        target_size=(150, 150),\n",
    "        batch_size=20,\n",
    "        class_mode='binary')\n",
    "\n",
    "\n",
    "validation_generator = test_datagen.flow_from_directory(\n",
    "        validation_dir,\n",
    "         target_size=(150, 150),\n",
    "         batch_size=20,\n",
    "         class_mode='binary')"
   ]
  },
  {
   "cell_type": "markdown",
   "metadata": {},
   "source": [
    "# Fitting the model using a batch generator"
   ]
  },
  {
   "cell_type": "code",
   "execution_count": 18,
   "metadata": {},
   "outputs": [
    {
     "name": "stdout",
     "output_type": "stream",
     "text": [
      "Epoch 1/30\n",
      "100/100 [==============================] - 92s 918ms/step - loss: 0.6476 - acc: 0.6095 - val_loss: 0.6378 - val_acc: 0.7690\n",
      "Epoch 2/30\n",
      "100/100 [==============================] - 95s 950ms/step - loss: 0.5259 - acc: 0.7525 - val_loss: 0.5513 - val_acc: 0.8020\n",
      "Epoch 3/30\n",
      "100/100 [==============================] - 97s 970ms/step - loss: 0.4698 - acc: 0.7885 - val_loss: 0.6677 - val_acc: 0.8080\n",
      "Epoch 4/30\n",
      "100/100 [==============================] - 100s 996ms/step - loss: 0.4144 - acc: 0.8255 - val_loss: 0.3435 - val_acc: 0.8140\n",
      "Epoch 5/30\n",
      "100/100 [==============================] - 101s 1s/step - loss: 0.3488 - acc: 0.8585 - val_loss: 0.3742 - val_acc: 0.8310\n",
      "Epoch 6/30\n",
      "100/100 [==============================] - 5809s 58s/step - loss: 0.2758 - acc: 0.8915 - val_loss: 0.2403 - val_acc: 0.8710\n",
      "Epoch 7/30\n",
      "100/100 [==============================] - 88s 881ms/step - loss: 0.2331 - acc: 0.9110 - val_loss: 0.2588 - val_acc: 0.8840\n",
      "Epoch 8/30\n",
      "100/100 [==============================] - 79s 788ms/step - loss: 0.2081 - acc: 0.9210 - val_loss: 0.4820 - val_acc: 0.8020\n",
      "Epoch 9/30\n",
      "100/100 [==============================] - 76s 755ms/step - loss: 0.1921 - acc: 0.9295 - val_loss: 0.1849 - val_acc: 0.8900\n",
      "Epoch 10/30\n",
      "100/100 [==============================] - 74s 745ms/step - loss: 0.1755 - acc: 0.9305 - val_loss: 0.3053 - val_acc: 0.8930\n",
      "Epoch 11/30\n",
      "100/100 [==============================] - 76s 757ms/step - loss: 0.1723 - acc: 0.9295 - val_loss: 0.2477 - val_acc: 0.9150\n",
      "Epoch 12/30\n",
      "100/100 [==============================] - 77s 770ms/step - loss: 0.1564 - acc: 0.9425 - val_loss: 0.2042 - val_acc: 0.9240\n",
      "Epoch 13/30\n",
      "100/100 [==============================] - 78s 782ms/step - loss: 0.1428 - acc: 0.9455 - val_loss: 0.2518 - val_acc: 0.9070\n",
      "Epoch 14/30\n",
      "100/100 [==============================] - 79s 789ms/step - loss: 0.1373 - acc: 0.9535 - val_loss: 0.1377 - val_acc: 0.9170\n",
      "Epoch 15/30\n",
      "100/100 [==============================] - 79s 786ms/step - loss: 0.1247 - acc: 0.9520 - val_loss: 0.2300 - val_acc: 0.9200\n",
      "Epoch 16/30\n",
      "100/100 [==============================] - 79s 790ms/step - loss: 0.1135 - acc: 0.9595 - val_loss: 0.0577 - val_acc: 0.9240\n",
      "Epoch 17/30\n",
      "100/100 [==============================] - 79s 793ms/step - loss: 0.1119 - acc: 0.9565 - val_loss: 0.4927 - val_acc: 0.9050\n",
      "Epoch 18/30\n",
      "100/100 [==============================] - 81s 806ms/step - loss: 0.0975 - acc: 0.9630 - val_loss: 0.0965 - val_acc: 0.9270\n",
      "Epoch 19/30\n",
      "100/100 [==============================] - 79s 794ms/step - loss: 0.0967 - acc: 0.9600 - val_loss: 0.1956 - val_acc: 0.8960\n",
      "Epoch 20/30\n",
      "100/100 [==============================] - 81s 808ms/step - loss: 0.0924 - acc: 0.9585 - val_loss: 0.0641 - val_acc: 0.9160\n",
      "Epoch 21/30\n",
      "100/100 [==============================] - 81s 806ms/step - loss: 0.0769 - acc: 0.9720 - val_loss: 0.3156 - val_acc: 0.9200\n",
      "Epoch 22/30\n",
      "100/100 [==============================] - 80s 803ms/step - loss: 0.0811 - acc: 0.9670 - val_loss: 0.3461 - val_acc: 0.9030\n",
      "Epoch 23/30\n",
      "100/100 [==============================] - 81s 805ms/step - loss: 0.0716 - acc: 0.9755 - val_loss: 0.0872 - val_acc: 0.8990\n",
      "Epoch 24/30\n",
      "100/100 [==============================] - 81s 806ms/step - loss: 0.0674 - acc: 0.9750 - val_loss: 0.0097 - val_acc: 0.9220\n",
      "Epoch 25/30\n",
      "100/100 [==============================] - 81s 807ms/step - loss: 0.0639 - acc: 0.9815 - val_loss: 0.1107 - val_acc: 0.9100\n",
      "Epoch 26/30\n",
      "100/100 [==============================] - 81s 811ms/step - loss: 0.0558 - acc: 0.9810 - val_loss: 0.1215 - val_acc: 0.9300\n",
      "Epoch 27/30\n",
      "100/100 [==============================] - 83s 827ms/step - loss: 0.0563 - acc: 0.9795 - val_loss: 0.6852 - val_acc: 0.9000\n",
      "Epoch 28/30\n",
      "100/100 [==============================] - 89s 889ms/step - loss: 0.0470 - acc: 0.9870 - val_loss: 0.3284 - val_acc: 0.9230\n",
      "Epoch 29/30\n",
      "100/100 [==============================] - 91s 909ms/step - loss: 0.0481 - acc: 0.9805 - val_loss: 0.2837 - val_acc: 0.9320\n",
      "Epoch 30/30\n",
      "100/100 [==============================] - 88s 883ms/step - loss: 0.0387 - acc: 0.9885 - val_loss: 0.0751 - val_acc: 0.9000\n"
     ]
    }
   ],
   "source": [
    "history = model.fit_generator(\n",
    "        train_generator,\n",
    "        steps_per_epoch=100,\n",
    "        epochs=30,\n",
    "        validation_data=validation_generator,\n",
    "        validation_steps=50)"
   ]
  },
  {
   "cell_type": "code",
   "execution_count": 19,
   "metadata": {},
   "outputs": [],
   "source": [
    "# Saving the model\n",
    "\n",
    "model.save('parasitized_vs_uninfected_using_cnn.h5')"
   ]
  },
  {
   "cell_type": "code",
   "execution_count": 20,
   "metadata": {},
   "outputs": [
    {
     "data": {
      "image/png": "[encoded data removed]",
      "text/plain": [
       "<Figure size 432x288 with 1 Axes>"
      ]
     },
     "metadata": {
      "needs_background": "light"
     },
     "output_type": "display_data"
    },
    {
     "data": {
      "image/png": "[encoded data removed]",
      "text/plain": [
       "<Figure size 432x288 with 1 Axes>"
      ]
     },
     "metadata": {
      "needs_background": "light"
     },
     "output_type": "display_data"
    }
   ],
   "source": [
    "# Displaying curves of loss and accuracy during training\n",
    "\n",
    "import matplotlib.pyplot as plt\n",
    "\n",
    "acc = history.history['acc']\n",
    "val_acc = history.history['val_acc']\n",
    "loss = history.history['loss']\n",
    "val_loss = history.history['val_loss']\n",
    "epochs = range(1, len(acc) + 1)\n",
    "plt.plot(epochs, acc, 'bo', label='Training acc')\n",
    "plt.plot(epochs, val_acc, 'b', label='Validation acc')\n",
    "plt.title('Training and validation accuracy')\n",
    "plt.legend()\n",
    "plt.figure()\n",
    "plt.plot(epochs, loss, 'bo', label='Training loss')\n",
    "plt.plot(epochs, val_loss, 'b', label='Validation loss')\n",
    "plt.title('Training and validation loss')\n",
    "plt.legend()\n",
    "plt.show()"
   ]
  }
 ],
 "metadata": {
  "kernelspec": {
   "display_name": "Python 3",
   "language": "python",
   "name": "python3"
  },
  "language_info": {
   "codemirror_mode": {
    "name": "ipython",
    "version": 3
   },
   "file_extension": ".py",
   "mimetype": "text/x-python",
   "name": "python",
   "nbconvert_exporter": "python",
   "pygments_lexer": "ipython3",
   "version": "3.7.4"
  }
 },
 "nbformat": 4,
 "nbformat_minor": 2
}
